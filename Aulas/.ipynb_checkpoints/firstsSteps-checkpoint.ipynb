{
 "cells": [
  {
   "cell_type": "markdown",
   "id": "b4e1860f",
   "metadata": {},
   "source": [
    "## Introdução ao pynb ://"
   ]
  },
  {
   "cell_type": "code",
   "execution_count": 2,
   "id": "03a2fc8d",
   "metadata": {},
   "outputs": [
    {
     "name": "stdout",
     "output_type": "stream",
     "text": [
      "Hello world\n"
     ]
    }
   ],
   "source": [
    "print(\"Hello world\");"
   ]
  },
  {
   "cell_type": "markdown",
   "id": "24085cbe",
   "metadata": {},
   "source": [
    "## Variaveis em PY\n"
   ]
  },
  {
   "cell_type": "code",
   "execution_count": null,
   "id": "6066682b",
   "metadata": {},
   "outputs": [],
   "source": []
  }
 ],
 "metadata": {
  "kernelspec": {
   "display_name": "Python 3 (ipykernel)",
   "language": "python",
   "name": "python3"
  },
  "language_info": {
   "codemirror_mode": {
    "name": "ipython",
    "version": 3
   },
   "file_extension": ".py",
   "mimetype": "text/x-python",
   "name": "python",
   "nbconvert_exporter": "python",
   "pygments_lexer": "ipython3",
   "version": "3.11.5"
  }
 },
 "nbformat": 4,
 "nbformat_minor": 5
}
